{
  "nbformat": 4,
  "nbformat_minor": 0,
  "metadata": {
    "colab": {
      "name": "TASK  7.ipynb",
      "provenance": [],
      "include_colab_link": true
    },
    "kernelspec": {
      "name": "python3",
      "display_name": "Python 3"
    },
    "language_info": {
      "name": "python"
    }
  },
  "cells": [
    {
      "cell_type": "markdown",
      "metadata": {
        "id": "view-in-github",
        "colab_type": "text"
      },
      "source": [
        "<a href=\"https://colab.research.google.com/github/sharoonm99/learnpy/blob/main/TASK_7.ipynb\" target=\"_parent\"><img src=\"https://colab.research.google.com/assets/colab-badge.svg\" alt=\"Open In Colab\"/></a>"
      ]
    },
    {
      "cell_type": "markdown",
      "metadata": {
        "id": "b0V3vwzcydKy"
      },
      "source": [
        "1. Write a program to check whether a  string is palindrome or not using functions. \n",
        "\n",
        "   ( A function is to be created to check whether the string is palindrome and it should give the output true or false to the main program)"
      ]
    },
    {
      "cell_type": "code",
      "metadata": {
        "id": "M2Mi7EOdyxiu",
        "outputId": "c11d31a2-0236-4924-e68c-eab3d00b86c2",
        "colab": {
          "base_uri": "https://localhost:8080/"
        }
      },
      "source": [
        "#please enter the code below this line.\n",
        "def palindrome(s):\n",
        "  return s == s[::-1]\n",
        "\n",
        "s=input(\"eneter the string\\n\")\n",
        "ans=palindrome(s)\n",
        "\n",
        "if ans:\n",
        "  print(\"its a palindrome\")\n",
        "else:\n",
        "  print(\"its not a palindrome\")  "
      ],
      "execution_count": 17,
      "outputs": [
        {
          "output_type": "stream",
          "text": [
            "eneter the string\n",
            "malayalam\n",
            "its a palindrome\n"
          ],
          "name": "stdout"
        }
      ]
    },
    {
      "cell_type": "markdown",
      "metadata": {
        "id": "vSiShTyOzEz-"
      },
      "source": [
        "2.  Write a menu driven program to find largest element in L, smallest element, avg of all values, sum of all values in L. All these operation should be performed in different functions and the result should be returned.\n",
        "\n",
        "\n",
        "      L=[23,24,11,90,1,41,9,99,28,56,72]"
      ]
    },
    {
      "cell_type": "code",
      "metadata": {
        "id": "fRtMIw_CzsmO",
        "outputId": "a2c0f34b-7adf-4955-848d-a6e7935b729f",
        "colab": {
          "base_uri": "https://localhost:8080/"
        }
      },
      "source": [
        "#please enter the code below this line.\n",
        "\n",
        "def large(list1):\n",
        "  a=max(list1)\n",
        "  return a\n",
        "def small(list1):\n",
        "  b=min(list1)\n",
        "  return b\n",
        "def avg(list1):\n",
        "  c=sum(list1)/len(list1)\n",
        "  return c\n",
        "def sumof(list1):\n",
        "  d=sum(list1)\n",
        "  return d\n",
        "\n",
        "print(\"main menu\\n\")\n",
        "print(\"1:Largest number\")\n",
        "print(\"2:smallest number\")\n",
        "print(\"3:avg\")\n",
        "print(\"4:sum\")\n",
        "opt=int(input(\"enter the option\"))\n",
        "\n",
        "list1=[23,24,11,90,1,41,9,28,56,72]\n",
        "\n",
        "if opt==1:\n",
        "   print(large(list1))\n",
        "elif opt==2:\n",
        "   print(small(list1))\n",
        "elif opt==3:\n",
        "   print(avg(l))\n",
        "elif opt==4:\n",
        "   print(sumof(l))\n",
        "else:\n",
        "  print(\"wrong\")\n",
        "\n"
      ],
      "execution_count": 42,
      "outputs": [
        {
          "output_type": "stream",
          "text": [
            "main menu\n",
            "\n",
            "1:Largest number\n",
            "2:smallest number\n",
            "3:avg\n",
            "4:sum\n",
            "enter the option1\n",
            "90\n"
          ],
          "name": "stdout"
        }
      ]
    }
  ]
}