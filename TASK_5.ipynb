{
  "nbformat": 4,
  "nbformat_minor": 0,
  "metadata": {
    "colab": {
      "name": "TASK 5.ipynb",
      "provenance": [],
      "include_colab_link": true
    },
    "kernelspec": {
      "name": "python3",
      "display_name": "Python 3"
    },
    "language_info": {
      "name": "python"
    }
  },
  "cells": [
    {
      "cell_type": "markdown",
      "metadata": {
        "id": "view-in-github",
        "colab_type": "text"
      },
      "source": [
        "<a href=\"https://colab.research.google.com/github/sharoonm99/learnpy/blob/main/TASK_5.ipynb\" target=\"_parent\"><img src=\"https://colab.research.google.com/assets/colab-badge.svg\" alt=\"Open In Colab\"/></a>"
      ]
    },
    {
      "cell_type": "markdown",
      "metadata": {
        "id": "Gu_sxK-id8Zw"
      },
      "source": [
        "1.Given a list l=[23, 45, 25 ,78, 90, 45, 22, 56, 99, 12, 9, 75, 32]\n",
        "\n",
        "Write a single line program to display.\n",
        "\n",
        "a) elements at even index in the list.\n",
        "\n",
        "b) remove the 3 middle elements (45, 22 and 56)"
      ]
    },
    {
      "cell_type": "code",
      "metadata": {
        "id": "hiAZt40tgbu8",
        "outputId": "23fcee91-143c-4dc0-db5e-2770627a9163",
        "colab": {
          "base_uri": "https://localhost:8080/"
        }
      },
      "source": [
        "#please write the code below this line\n",
        "list1=[23,45,25,78,90,45,22,56,99,12,9,75,32];\n",
        "print (list1)\n",
        "print(\"elements at even index in the list are\")\n",
        "for i in range(1,len(list1),2):\n",
        "    print (list1[i])\n",
        "print (\"after deleting 3 middle elements\")\n",
        "del list1[5:8]\n",
        "print (list1)    "
      ],
      "execution_count": 46,
      "outputs": [
        {
          "output_type": "stream",
          "text": [
            "[23, 45, 25, 78, 90, 45, 22, 56, 99, 12, 9, 75, 32]\n",
            "elements at even index in the list are\n",
            "45\n",
            "78\n",
            "45\n",
            "56\n",
            "12\n",
            "75\n",
            "after deleting 3 middle elements\n",
            "[23, 45, 25, 78, 90, 99, 12, 9, 75, 32]\n"
          ],
          "name": "stdout"
        }
      ]
    },
    {
      "cell_type": "markdown",
      "metadata": {
        "id": "EyjCDxcygv2C"
      },
      "source": [
        "2.Given a list lowerCase=['a', 'e', 'i', 'o', 'u']\n",
        "Create a new list upperCase using list comprehension and copy the content of the lowerCase list, but in uppercase (capital letters). (upperCase should be ['A', 'E', 'I', 'O', 'U'])"
      ]
    },
    {
      "cell_type": "code",
      "metadata": {
        "id": "-HhhWi7jhGIj",
        "outputId": "4101e530-d940-484f-ddf2-061435498f8c",
        "colab": {
          "base_uri": "https://localhost:8080/"
        }
      },
      "source": [
        "#please write the code below this line\n",
        "lowercase = [ ' a '  , ' e ' , ' i ' , ' o ' , ' u ' ] ;\n",
        "uppercase = [x.upper() for x in lowercase];\n",
        "print ( uppercase )"
      ],
      "execution_count": 6,
      "outputs": [
        {
          "output_type": "stream",
          "text": [
            "[' A ', ' E ', ' I ', ' O ', ' U ']\n"
          ],
          "name": "stdout"
        }
      ]
    },
    {
      "cell_type": "markdown",
      "metadata": {
        "id": "YkTzwuJphPxV"
      },
      "source": [
        "3.Given a tuple fruits = (\"banana\", \"cherry\", \"apple\", \"grapes\")\n",
        "Create 3 variables yellow, red and green and assign them with fruits of their respective color.\n",
        "(yellow=\"banana\", red=[\"cherry\", \"apple\"], green=\"grapes (hint- Use unpacking)"
      ]
    },
    {
      "cell_type": "code",
      "metadata": {
        "id": "cSaKkX2mh33Q",
        "outputId": "8b5bc2dd-0005-42b9-aae4-a5aae906782e",
        "colab": {
          "base_uri": "https://localhost:8080/"
        }
      },
      "source": [
        "#please write the code below this line\n",
        "fruit = ('banana','cherry','apple','grapes');\n",
        "(yellow, *red ,green) = fruit\n",
        "print ('yellow:' , yellow)\n",
        "print ('red:' , red)\n",
        "print ('green:', green)"
      ],
      "execution_count": 15,
      "outputs": [
        {
          "output_type": "stream",
          "text": [
            "yellow: banana\n",
            "red: ['cherry', 'apple']\n",
            "green: grapes\n"
          ],
          "name": "stdout"
        }
      ]
    },
    {
      "cell_type": "code",
      "metadata": {
        "id": "LLXaHoAjuG1J"
      },
      "source": [
        ""
      ],
      "execution_count": null,
      "outputs": []
    }
  ]
}